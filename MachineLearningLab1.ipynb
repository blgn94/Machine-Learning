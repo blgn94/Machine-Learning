{
  "nbformat": 4,
  "nbformat_minor": 0,
  "metadata": {
    "colab": {
      "provenance": [],
      "authorship_tag": "ABX9TyP+0RPmRnYWlKkDzJ7mfaCn",
      "include_colab_link": true
    },
    "kernelspec": {
      "name": "python3",
      "display_name": "Python 3"
    },
    "language_info": {
      "name": "python"
    }
  },
  "cells": [
    {
      "cell_type": "markdown",
      "metadata": {
        "id": "view-in-github",
        "colab_type": "text"
      },
      "source": [
        "<a href=\"https://colab.research.google.com/github/blgn94/python/blob/main/MachineLearningLab1.ipynb\" target=\"_parent\"><img src=\"https://colab.research.google.com/assets/colab-badge.svg\" alt=\"Open In Colab\"/></a>"
      ]
    },
    {
      "cell_type": "code",
      "execution_count": 3,
      "metadata": {
        "colab": {
          "base_uri": "https://localhost:8080/"
        },
        "id": "_vZsfu3Mz80T",
        "outputId": "1107b1ac-357c-4e1c-83ca-acdcef451456"
      },
      "outputs": [
        {
          "output_type": "stream",
          "name": "stdout",
          "text": [
            "Хэдэн ширхэг тоо оруулах вэ?: 5\n",
            "1\n",
            "1\n",
            "2\n",
            "2\n",
            "3\n",
            "Ялгаатай утгатай элементүүдийн тоо:  3\n"
          ]
        }
      ],
      "source": [
        "# import array as arr\n",
        "listParam = []\n",
        "n = int(input(\"Хэдэн ширхэг тоо оруулах вэ?: \"))\n",
        "# input = arr.array('i', [1, 1, 1, 2, 2, 3, 3, 3])\n",
        "for i in range(0, n):\n",
        "    element = int(input())\n",
        "    listParam.append(element)\n",
        "output = set(listParam)\n",
        "print(\"Ялгаатай утгатай элементүүдийн тоо: \", len(output))"
      ]
    },
    {
      "cell_type": "code",
      "source": [
        "# class countWords(object):\n",
        "#   def _getitem_(self, key, count):\n",
        "#     return getattr(self, str(key), int(count))\n",
        "#   def _setitem_(self, key, value):\n",
        "#     return setattr(self, str(key), value)\n",
        "\n",
        "# sentence = str(input(\"Өгүүлбэр оруулна уу: \"))\n",
        "# words = sentence.split(\" \")\n",
        "# diffWords = set(words)\n",
        "\n",
        "# def checkWord(e):\n",
        "#   if e in diffWords:\n",
        "#     return 1\n",
        "\n",
        "# print(result)\n",
        "\n",
        "def word_count(str):\n",
        "  counts = dict()\n",
        "  words = str.split()\n",
        "  for word in words:\n",
        "    if word.lower() in counts:\n",
        "      counts[word.lower()] += 1\n",
        "    else:\n",
        "      counts[word.lower()] = 1\n",
        "  return counts\n",
        "print(word_count(\"Namaig Bilguun gedeg. Ta buhen namaig Bilguun gej duudaarai!\"))"
      ],
      "metadata": {
        "colab": {
          "base_uri": "https://localhost:8080/"
        },
        "id": "UC--guPBNDMB",
        "outputId": "47480825-7a5d-4b2a-86c4-44086393ae57"
      },
      "execution_count": 11,
      "outputs": [
        {
          "output_type": "stream",
          "name": "stdout",
          "text": [
            "{'namaig': 2, 'bilguun': 2, 'gedeg.': 1, 'ta': 1, 'buhen': 1, 'gej': 1, 'duudaarai!': 1}\n"
          ]
        }
      ]
    }
  ]
}