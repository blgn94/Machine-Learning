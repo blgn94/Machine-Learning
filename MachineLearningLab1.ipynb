{
  "nbformat": 4,
  "nbformat_minor": 0,
  "metadata": {
    "colab": {
      "provenance": [],
      "authorship_tag": "ABX9TyNRtRCAIoEDeDWO984IsKKe",
      "include_colab_link": true
    },
    "kernelspec": {
      "name": "python3",
      "display_name": "Python 3"
    },
    "language_info": {
      "name": "python"
    }
  },
  "cells": [
    {
      "cell_type": "markdown",
      "metadata": {
        "id": "view-in-github",
        "colab_type": "text"
      },
      "source": [
        "<a href=\"https://colab.research.google.com/github/blgn94/Machine-Learning/blob/main/MachineLearningLab1.ipynb\" target=\"_parent\"><img src=\"https://colab.research.google.com/assets/colab-badge.svg\" alt=\"Open In Colab\"/></a>"
      ]
    },
    {
      "cell_type": "code",
      "execution_count": null,
      "metadata": {
        "colab": {
          "base_uri": "https://localhost:8080/"
        },
        "id": "_vZsfu3Mz80T",
        "outputId": "1107b1ac-357c-4e1c-83ca-acdcef451456"
      },
      "outputs": [
        {
          "output_type": "stream",
          "name": "stdout",
          "text": [
            "Хэдэн ширхэг тоо оруулах вэ?: 5\n",
            "1\n",
            "1\n",
            "2\n",
            "2\n",
            "3\n",
            "Ялгаатай утгатай элементүүдийн тоо:  3\n"
          ]
        }
      ],
      "source": [
        "listParam = []\n",
        "n = int(input(\"Хэдэн ширхэг тоо оруулах вэ?: \"))\n",
        "for i in range(0, n):\n",
        "    element = int(input())\n",
        "    listParam.append(element)\n",
        "output = set(listParam)\n",
        "print(\"Ялгаатай утгатай элементүүдийн тоо: \", len(output))"
      ]
    },
    {
      "cell_type": "code",
      "source": [
        "inputString = input(\"Ямар нэг өгүүлбэр оруулна уу: \")\n",
        "counts = dict()\n",
        "words = inputString.split()\n",
        "for word in words:\n",
        "  if word.lower() in counts:\n",
        "    counts[word.lower()] += 1\n",
        "  else:\n",
        "    counts[word.lower()] = 1\n",
        "print(counts)"
      ],
      "metadata": {
        "colab": {
          "base_uri": "https://localhost:8080/"
        },
        "id": "UC--guPBNDMB",
        "outputId": "bdcf3129-8926-4578-cd72-2b67c18eb76e"
      },
      "execution_count": 3,
      "outputs": [
        {
          "output_type": "stream",
          "name": "stdout",
          "text": [
            "Ямар нэг өгүүлбэр оруулна уу: Намайг билгүүн гэдэг. Тиймээс намайг билгүүн гэж дууд.\n",
            "{'намайг': 2, 'билгүүн': 2, 'гэдэг.': 1, 'тиймээс': 1, 'гэж': 1, 'дууд.': 1}\n"
          ]
        }
      ]
    },
    {
      "cell_type": "code",
      "source": [
        "stringList = []\n",
        "n = int(input(\"Нийт тэмдэгт мөрийн тоо ширхэг: \"))\n",
        "for i in range(n):\n",
        "  inputString = str(input())\n",
        "  stringList.append(inputString)\n",
        "xyzList = []\n",
        "for string in stringList:\n",
        "  if \"xyz\" in string:\n",
        "    xyzList.append(string)\n",
        "print(\"Таны оруулсан тэмдэгт мөрүүд: \", stringList)\n",
        "print(\"xyz тэмдэгт мөрийг агуулсан тэмдэгт мөрүүд: \", xyzList)"
      ],
      "metadata": {
        "colab": {
          "base_uri": "https://localhost:8080/"
        },
        "id": "Bo_7DAGfm0CL",
        "outputId": "c9f04c93-144b-483f-dd97-c2ce99a363cd"
      },
      "execution_count": 26,
      "outputs": [
        {
          "output_type": "stream",
          "name": "stdout",
          "text": [
            "Нийт тэмдэгт мөрийн тоо ширхэг: 5\n",
            "aaaaaxyazzz\n",
            "aaajjjbxyzwww\n",
            "xyzqqqklkfdx\n",
            "aaabbbcccdddd\n",
            "lkjxyz\n",
            "Таны оруулсан тэмдэгт мөрүүд:  ['aaaaaxyazzz', 'aaajjjbxyzwww', 'xyzqqqklkfdx', 'aaabbbcccdddd', 'lkjxyz']\n",
            "xyz тэмдэгт мөрийг агуулсан тэмдэгт мөрүүд:  ['aaajjjbxyzwww', 'xyzqqqklkfdx', 'lkjxyz']\n"
          ]
        }
      ]
    },
    {
      "cell_type": "code",
      "source": [
        "stringList = []\n",
        "n = int(input(\"Нийт тэмдэгт мөрийн тоо ширхэг: \"))\n",
        "for i in range(n):\n",
        "  inputString = str(input())\n",
        "  stringList.append(inputString)\n",
        "xyzList = []\n",
        "for string in stringList:\n",
        "  if string.startswith(\"xyz\"):\n",
        "    xyzList.append(string)\n",
        "  elif string.endswith(\"xyz\"):\n",
        "    xyzList.append(string)\n",
        "print(\"Таны оруулсан тэмдэгт мөрүүд: \", stringList)\n",
        "print(\"xyz тэмдэгт мөрийг агуулсан тэмдэгт мөрүүд: \", xyzList)"
      ],
      "metadata": {
        "colab": {
          "base_uri": "https://localhost:8080/"
        },
        "id": "gH0cQ1CbsQhG",
        "outputId": "f559ac3d-a77f-4f01-a1ca-aec965e53495"
      },
      "execution_count": 29,
      "outputs": [
        {
          "output_type": "stream",
          "name": "stdout",
          "text": [
            "Нийт тэмдэгт мөрийн тоо ширхэг: 5\n",
            "xyzadsfadsfsadfxgfyz\n",
            "aaaabbbbccccdddddd\n",
            "xyhhssdzaaaasdddddd\n",
            "aaaggghhddddbxyz\n",
            "ppppppoooooooooiiiiiiiixiyz\n",
            "Таны оруулсан тэмдэгт мөрүүд:  ['xyzadsfadsfsadfxgfyz', 'aaaabbbbccccdddddd', 'xyhhssdzaaaasdddddd', 'aaaggghhddddbxyz', 'ppppppoooooooooiiiiiiiixiyz']\n",
            "xyz тэмдэгт мөрийг агуулсан тэмдэгт мөрүүд:  ['xyzadsfadsfsadfxgfyz', 'aaaggghhddddbxyz']\n"
          ]
        }
      ]
    },
    {
      "cell_type": "code",
      "source": [
        "def isPrime(number):\n",
        "  for i in range(2, number):\n",
        "    if number % i == 0:\n",
        "      return False\n",
        "  return True\n",
        "\n",
        "checkNumber = 2\n",
        "primeNumbers = []\n",
        "\n",
        "while len(primeNumbers) != 50:\n",
        "  if isPrime(checkNumber):\n",
        "    primeNumbers.append(checkNumber)\n",
        "  checkNumber += 1\n",
        "\n",
        "print(primeNumbers)"
      ],
      "metadata": {
        "colab": {
          "base_uri": "https://localhost:8080/"
        },
        "id": "kG4HY-_XzROd",
        "outputId": "92555a65-b163-49c5-a8cc-c3a30d4771c5"
      },
      "execution_count": 49,
      "outputs": [
        {
          "output_type": "stream",
          "name": "stdout",
          "text": [
            "[2, 3, 5, 7, 11, 13, 17, 19, 23, 29, 31, 37, 41, 43, 47, 53, 59, 61, 67, 71, 73, 79, 83, 89, 97, 101, 103, 107, 109, 113, 127, 131, 137, 139, 149, 151, 157, 163, 167, 173, 179, 181, 191, 193, 197, 199, 211, 223, 227, 229]\n"
          ]
        }
      ]
    }
  ]
}