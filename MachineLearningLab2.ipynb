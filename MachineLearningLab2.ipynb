{
  "nbformat": 4,
  "nbformat_minor": 0,
  "metadata": {
    "colab": {
      "provenance": [],
      "authorship_tag": "ABX9TyM0sgQa9ZckvN9TKnt72rEM",
      "include_colab_link": true
    },
    "kernelspec": {
      "name": "python3",
      "display_name": "Python 3"
    },
    "language_info": {
      "name": "python"
    }
  },
  "cells": [
    {
      "cell_type": "markdown",
      "metadata": {
        "id": "view-in-github",
        "colab_type": "text"
      },
      "source": [
        "<a href=\"https://colab.research.google.com/github/blgn94/Machine-Learning/blob/main/MachineLearningLab2.ipynb\" target=\"_parent\"><img src=\"https://colab.research.google.com/assets/colab-badge.svg\" alt=\"Open In Colab\"/></a>"
      ]
    },
    {
      "cell_type": "code",
      "execution_count": null,
      "metadata": {
        "id": "1gZu2lamsftc"
      },
      "outputs": [],
      "source": [
        "from bs4 import BeautifulSoup\n",
        "import requests\n",
        "\n",
        "soup = []\n",
        "for page in range(1, 80):\n",
        "  response = requests.get(f\"https://www.zangia.mn/job/list/lmt.100/pg.{page}\")\n",
        "  soup.append(BeautifulSoup(response.text, \"html.parser\"))\n",
        "  print(len(soup))"
      ]
    },
    {
      "cell_type": "code",
      "source": [
        "jobLinks = []\n",
        "for page in range(1, len(soup)):\n",
        "  adDivs = soup[page].find_all(\"div\", class_=\"ad\")\n",
        "  for div in adDivs:\n",
        "    jobLinks.append(div.a['href'])\n",
        "print(len(jobLinks))"
      ],
      "metadata": {
        "id": "zPE7GG-gx-HI"
      },
      "execution_count": null,
      "outputs": []
    },
    {
      "cell_type": "code",
      "source": [
        "eachJobs = []\n",
        "# i = 0\n",
        "for link in jobLinks:\n",
        "  # i += 1\n",
        "  jobLink = \"https://www.zangia.mn/\" + link\n",
        "  response = requests.get(jobLink)\n",
        "  eachJobs.append(BeautifulSoup(response.text, \"html.parser\"))\n",
        "  # if i == 100:\n",
        "  #   break\n",
        "  print(len(eachJobs))"
      ],
      "metadata": {
        "id": "pGJXOQMR9em6"
      },
      "execution_count": null,
      "outputs": []
    },
    {
      "cell_type": "code",
      "source": [
        "import pandas as pd\n",
        "import numpy as np\n",
        "\n",
        "jobsDetail = []\n",
        "oneJobH2 = []\n",
        "checkJobH2 = [\"Байршил\", \"Салбар\", \"Түвшин\", \"Төрөл\", \"Цалин\"]\n",
        "for eachPageInfo in eachJobs:\n",
        "  details = eachPageInfo.find_all(\"div\", class_=\"details\")\n",
        "  if len(details) > 0:\n",
        "    divs = details[0].find_all(\"div\")\n",
        "    oneJobDetail = []\n",
        "    oneJobDetail.append(eachPageInfo.h3.string.strip())\n",
        "    if len(divs) == 5:\n",
        "      for k in range(0, 5):\n",
        "        oneJobDetail.append(divs[k].find(\"span\").text.strip())\n",
        "    elif len(divs) < 5:\n",
        "      for k in range(0, len(divs)):\n",
        "        oneJobH2.append(divs[k].find(\"b\").text.strip())\n",
        "      for check in checkJobH2:\n",
        "        k = 0\n",
        "        if not(check in oneJobH2):\n",
        "          oneJobDetail.append(\"Тодорхойгүй\")\n",
        "          k += 1\n",
        "        else:\n",
        "          oneJobDetail.append(divs[k].find(\"span\").text.strip())\n",
        "          k += 1\n",
        "    oneJobDetail.append(details[1].find_all(\"span\")[0].text.strip())\n",
        "    jobsDetail.append(oneJobDetail)\n",
        "ajil = []\n",
        "bairshil = []\n",
        "salbar = []\n",
        "tuvshin = []\n",
        "torol = []\n",
        "tsalin = []\n",
        "dugaar = []\n",
        "for i in range(0, len(jobsDetail)):\n",
        "  ajil.append(jobsDetail[i][0])\n",
        "  bairshil.append(jobsDetail[i][1])\n",
        "  salbar.append(jobsDetail[i][2])\n",
        "  tuvshin.append(jobsDetail[i][3])\n",
        "  torol.append(jobsDetail[i][4])\n",
        "  tsalin.append(jobsDetail[i][5])\n",
        "  dugaar.append(jobsDetail[i][6])\n",
        "data = {\n",
        "    \"Ажил\": ajil,\n",
        "    \"Байршил\": bairshil,\n",
        "    \"Салбар\": salbar,\n",
        "    \"Түвшин\": tuvshin,\n",
        "    \"Төрөл\": torol,\n",
        "    \"Цалин\": tsalin,\n",
        "    \"Дугаар\": dugaar,\n",
        "}\n",
        "df = pd.DataFrame(data)\n",
        "df.to_csv('zangia.tsv', sep=\"\\t\")\n",
        "print(df)"
      ],
      "metadata": {
        "id": "gXWQf4oOMFjF",
        "colab": {
          "base_uri": "https://localhost:8080/"
        },
        "outputId": "88785a26-d0ca-4bba-b444-590d0cc21b3c"
      },
      "execution_count": 39,
      "outputs": [
        {
          "output_type": "stream",
          "name": "stdout",
          "text": [
            "                                                  Ажил  \\\n",
            "0                                         Мерчиндайзер   \n",
            "1                Үйлдвэрийн оператор /Сүүний үйлдвэрт/   \n",
            "2                                      Агуулахын нярав   \n",
            "3                         Автоматикийн ээлжийн инженер   \n",
            "4                                        Брэнд менежер   \n",
            "...                                                ...   \n",
            "7270  АВТОГРЕЙДЕРИЙН ОПЕРАТОР /Нарийн сухайтын уурхай/   \n",
            "7271    БУЛЬДОЗЕРИЙН ОПЕРАТОР /Нарийн сухайтын уурхай/   \n",
            "7272            АВТОСАМОСВАЛЫН ОПЕРАТОР/Нарийн Сухайт/   \n",
            "7273    ЭКСКАВАТОРЫН ОПЕРАТОР /Нарийн сухайтын уурхай/   \n",
            "7274            ӨРМИЙН ТУСЛАХ /Нарийн сухайтын уурхай/   \n",
            "\n",
            "                              Байршил                               Салбар  \\\n",
            "0     Улаанбаатар хот, Хан-Уул дүүрэг                 Худалдаа, Борлуулалт   \n",
            "1     Улаанбаатар хот, Хан-Уул дүүрэг                Үйлдвэрлэл, Дэд бүтэц   \n",
            "2     Улаанбаатар хот, Хан-Уул дүүрэг  Банк, санхүү, нягтлан бодох бүртгэл   \n",
            "3     Улаанбаатар хот, Хан-Уул дүүрэг                Үйлдвэрлэл, Дэд бүтэц   \n",
            "4     Улаанбаатар хот, Хан-Уул дүүрэг             Маркетинг, PR, Менежмент   \n",
            "...                               ...                                  ...   \n",
            "7270                   Өмнөговь аймаг                           Уул уурхай   \n",
            "7271                   Өмнөговь аймаг                           Уул уурхай   \n",
            "7272                   Өмнөговь аймаг                           Уул уурхай   \n",
            "7273                   Өмнөговь аймаг                           Уул уурхай   \n",
            "7274                   Өмнөговь аймаг                           Уул уурхай   \n",
            "\n",
            "                    Түвшин         Төрөл                  Цалин  \\\n",
            "0              Мэргэжилтэн  Бүтэн цагийн  1,500,000 - 1,800,000   \n",
            "1              Мэргэжилтэн       Ээлжийн  1,200,000 - 1,500,000   \n",
            "2              Мэргэжилтэн       Ээлжийн  1,200,000 - 1,500,000   \n",
            "3              Мэргэжилтэн       Ээлжийн  1,800,000 - 2,100,000   \n",
            "4              Мэргэжилтэн  Бүтэн цагийн  2,100,000 - 2,500,000   \n",
            "...                    ...           ...                    ...   \n",
            "7270  Мэргэжил хамаарахгүй       Ээлжийн  1,200,000 - 1,500,000   \n",
            "7271  Мэргэжил хамаарахгүй       Ээлжийн  1,200,000 - 1,500,000   \n",
            "7272  Мэргэжил хамаарахгүй       Ээлжийн  1,500,000 - 1,800,000   \n",
            "7273  Мэргэжил хамаарахгүй       Ээлжийн  1,200,000 - 1,500,000   \n",
            "7274           Мэргэжилтэн       Ээлжийн  1,200,000 - 1,500,000   \n",
            "\n",
            "                  Дугаар  \n",
            "0     86200126, 76762222  \n",
            "1     86200126, 76762222  \n",
            "2     86200126, 76762222  \n",
            "3     86200126, 76762222  \n",
            "4     86200126, 76762222  \n",
            "...                  ...  \n",
            "7270            70107482  \n",
            "7271            70107482  \n",
            "7272            70107482  \n",
            "7273            70107482  \n",
            "7274            70107482  \n",
            "\n",
            "[7275 rows x 7 columns]\n"
          ]
        }
      ]
    },
    {
      "cell_type": "code",
      "source": [
        "from urllib.request import urlopen\n",
        "from bs4 import BeautifulSoup as soup\n",
        "import json\n",
        "\n",
        "with open(\"data.json\", \"w\") as writeJSON:\n",
        "    json.dump(str(eachJobs), writeJSON, ensure_ascii=False)"
      ],
      "metadata": {
        "id": "dXJMbVKh2NVb"
      },
      "execution_count": 44,
      "outputs": []
    }
  ]
}