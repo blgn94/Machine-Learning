{
  "nbformat": 4,
  "nbformat_minor": 0,
  "metadata": {
    "colab": {
      "provenance": [],
      "authorship_tag": "ABX9TyNKO1cwlUMTZztaQM9SIKYj",
      "include_colab_link": true
    },
    "kernelspec": {
      "name": "python3",
      "display_name": "Python 3"
    },
    "language_info": {
      "name": "python"
    }
  },
  "cells": [
    {
      "cell_type": "markdown",
      "metadata": {
        "id": "view-in-github",
        "colab_type": "text"
      },
      "source": [
        "<a href=\"https://colab.research.google.com/github/blgn94/Machine-Learning/blob/main/MachineLearningLab2.ipynb\" target=\"_parent\"><img src=\"https://colab.research.google.com/assets/colab-badge.svg\" alt=\"Open In Colab\"/></a>"
      ]
    },
    {
      "cell_type": "code",
      "execution_count": 48,
      "metadata": {
        "id": "1gZu2lamsftc"
      },
      "outputs": [],
      "source": [
        "from bs4 import BeautifulSoup\n",
        "import requests\n",
        "\n",
        "soup = []\n",
        "for page in range(1, 80):\n",
        "  response = requests.get(f\"https://www.zangia.mn/job/list/lmt.100/pg.{page}\")\n",
        "  soup.append(BeautifulSoup(response.text, \"html.parser\"))"
      ]
    },
    {
      "cell_type": "code",
      "source": [
        "jobLinks = []\n",
        "for page in range(1, len(soup)):\n",
        "  adDivs = soup[page].find_all(\"div\", class_=\"ad\")\n",
        "  for div in adDivs:\n",
        "    jobLinks.append(div.a['href'])\n",
        "print(len(jobLinks))"
      ],
      "metadata": {
        "colab": {
          "base_uri": "https://localhost:8080/"
        },
        "id": "zPE7GG-gx-HI",
        "outputId": "43340346-f3ef-4113-d71e-38ede89810b8"
      },
      "execution_count": 56,
      "outputs": [
        {
          "output_type": "stream",
          "name": "stdout",
          "text": [
            "7835\n"
          ]
        }
      ]
    },
    {
      "cell_type": "code",
      "source": [
        "eachInfos = []\n",
        "for link in jobLinks:\n",
        "  jobLink = \"https://www.zangia.mn/\" + link\n",
        "  response = requests.get(jobLink)\n",
        "  eachInfos.append(BeautifulSoup(response.text, \"html.parser\"))"
      ],
      "metadata": {
        "id": "pGJXOQMR9em6"
      },
      "execution_count": null,
      "outputs": []
    },
    {
      "cell_type": "code",
      "source": [
        "jobTitle = []\n",
        "for info in eachInfos:\n",
        "  jobTitle.append[info.h3.string]\n",
        "print(jobTitle)"
      ],
      "metadata": {
        "id": "gXWQf4oOMFjF"
      },
      "execution_count": null,
      "outputs": []
    }
  ]
}